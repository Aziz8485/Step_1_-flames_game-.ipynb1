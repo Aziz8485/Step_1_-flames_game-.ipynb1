{
  "nbformat": 4,
  "nbformat_minor": 0,
  "metadata": {
    "colab": {
      "name": "Step_1_(flames_game).",
      "provenance": []
    },
    "kernelspec": {
      "name": "python3",
      "display_name": "Python 3"
    },
    "language_info": {
      "name": "python"
    }
  },
  "cells": [
    {
      "cell_type": "code",
      "metadata": {
        "id": "dGLt02XO-2N4"
      },
      "source": [
        "def remove_match_char(list1, list2):\n",
        " \n",
        "    for i in range(len(list1)) :\n",
        "        for j in range(len(list2)) :\n",
        " \n",
        "           \n",
        "            if list1[i] == list2[j] :\n",
        "                c = list1[i]\n",
        " \n",
        "               \n",
        "                list1.remove(c)\n",
        "                list2.remove(c)\n",
        " \n",
        "               \n",
        "                list3 = list1 + [\"*\"] + list2\n",
        " \n",
        "               \n",
        "                return [list3, True]\n",
        " \n",
        "    list3 = list1 + [\"*\"] + list2\n",
        "    return [list3, False]"
      ],
      "execution_count": null,
      "outputs": []
    }
  ]
}